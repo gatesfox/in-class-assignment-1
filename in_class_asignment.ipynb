{
  "nbformat": 4,
  "nbformat_minor": 0,
  "metadata": {
    "colab": {
      "provenance": [],
      "authorship_tag": "ABX9TyNixBjmWu1WgmM8fL4CYllr",
      "include_colab_link": true
    },
    "kernelspec": {
      "name": "python3",
      "display_name": "Python 3"
    },
    "language_info": {
      "name": "python"
    }
  },
  "cells": [
    {
      "cell_type": "markdown",
      "metadata": {
        "id": "view-in-github",
        "colab_type": "text"
      },
      "source": [
        "<a href=\"https://colab.research.google.com/github/gatesfox/in-class-assignment-1/blob/main/in_class_asignment.ipynb\" target=\"_parent\"><img src=\"https://colab.research.google.com/assets/colab-badge.svg\" alt=\"Open In Colab\"/></a>"
      ]
    },
    {
      "cell_type": "markdown",
      "source": [
        "**In class asignment #1**\n",
        "\n",
        "date: 1/31/2025\n",
        "\n",
        "*write a program that takes the value of pi, r, h from the computer and calculate the SA of a cylinder*"
      ],
      "metadata": {
        "id": "X9EFILts7Axt"
      }
    },
    {
      "cell_type": "code",
      "execution_count": null,
      "metadata": {
        "colab": {
          "base_uri": "https://localhost:8080/"
        },
        "id": "o-P0WZ8nZ6Lw",
        "outputId": "2baf1ee3-f0ca-4f5c-d7c0-cb911301d3aa"
      },
      "outputs": [
        {
          "output_type": "stream",
          "name": "stdout",
          "text": [
            "what is the radius of the cylinder:10\n",
            "what is the height of the cylinder:20\n",
            "Surface Area of Cylinder = 1884.0 sq. ft\n"
          ]
        }
      ],
      "source": [
        "pi = 3.14\n",
        "radius = float(input(\"what is the radius of the cylinder:\"))\n",
        "hieght = float(input(\"what is the height of the cylinder:\"))\n",
        "      #write the process#\n",
        "SA = 2 * pi * radius**2 + 2 * pi * radius * hieght\n",
        "      #how do you want it outputted#\n",
        "print(f'Surface Area of Cylinder = {SA} sq. ft')\n",
        "      #results in a float because it has a decimal#"
      ]
    },
    {
      "cell_type": "markdown",
      "source": [
        "**In class asignment #2**\n",
        "\n",
        "date: 1/31/2025\n",
        "\n",
        "*design a calculator*"
      ],
      "metadata": {
        "id": "RohKtoo__S4e"
      }
    },
    {
      "cell_type": "code",
      "source": [
        "numb_1 = float(input(\"what is the first number: \"))\n",
        "numb_2 = float(input(\"what is the second number: \"))\n",
        "opp = input(\"what is the operator (+, -, *, /, ^, %, //): \")\n",
        "\n",
        "if opp == \"+\":\n",
        "  answer = int(numb_1) + int(numb_2)\n",
        "elif opp == \"-\":\n",
        "  answer = int(numb_1) - int(numb_2)\n",
        "elif opp == \"*\":\n",
        "  answer = int(numb_1) * int(numb_2)\n",
        "elif opp == \"/\":\n",
        "  answer = int(numb_1) / int(numb_2)\n",
        "elif opp == \"^\":\n",
        "  answer = int(numb_1) ** int(numb_2)\n",
        "elif opp == \"%\":\n",
        "  answer = int(numb_1) % int(numb_2)\n",
        "elif opp == \"//\":\n",
        "  answer = int(numb_1) // int(numb_2)\n",
        "else:\n",
        "  print(\"invalid operator\")\n",
        "\n",
        "print(answer)"
      ],
      "metadata": {
        "colab": {
          "base_uri": "https://localhost:8080/"
        },
        "id": "JAF-ckI4b2st",
        "outputId": "75b15621-e32b-440b-a389-95624a98c5d0"
      },
      "execution_count": null,
      "outputs": [
        {
          "output_type": "stream",
          "name": "stdout",
          "text": [
            "what is the first number: 5\n",
            "what is the second number: 1\n",
            "what is the operator (+, -, *, /, **, %, //): /\n",
            "5.0\n"
          ]
        }
      ]
    },
    {
      "cell_type": "markdown",
      "source": [
        "**In class asigment #3**\n",
        "\n",
        "date: 2/5/2025\n",
        "\n",
        "*a parking garage charges $5 plus $2.50 for each hour parked. The minimum fee is $10 and the maimum fee us $20. wirte a code for parking for 8 hours*"
      ],
      "metadata": {
        "id": "WM7haR0e_0Nj"
      }
    },
    {
      "cell_type": "code",
      "source": [
        "for hours in range(1,9,1):\n",
        "  fee = 5 + 2.5*hours\n",
        "  if fee < 10.0:\n",
        "    fee = 10.0\n",
        "  elif fee > 20.0:\n",
        "    fee = 20.0\n",
        "  print(hours, fee)\n"
      ],
      "metadata": {
        "colab": {
          "base_uri": "https://localhost:8080/"
        },
        "id": "jG42mEL1JPgl",
        "outputId": "f84b16fa-edc7-47d0-fa2c-10a95c116a90"
      },
      "execution_count": null,
      "outputs": [
        {
          "output_type": "stream",
          "name": "stdout",
          "text": [
            "1 10.0\n",
            "2 10.0\n",
            "3 12.5\n",
            "4 15.0\n",
            "5 17.5\n",
            "6 20.0\n",
            "7 20.0\n",
            "8 20.0\n"
          ]
        }
      ]
    },
    {
      "cell_type": "markdown",
      "source": [
        "**in class assignment #4**\n",
        "\n",
        "date: 2/5/2025\n",
        "\n",
        "*a movie theater manager is deciding how much to spend on advertising every ticket cost 10 dollars, without advertising, 20 people will show up, additional attendees are based on 'add = 2 x sqr(add money) and there is a fixed cost of $200*"
      ],
      "metadata": {
        "id": "KQ0lfSxzJni_"
      }
    },
    {
      "cell_type": "code",
      "source": [
        "\n",
        "print( \"Ad$\\t\", \"Profit\")\n",
        "for adds in range(0,201, 25):\n",
        "  att = 20 + (2* round(adds**0.5)) # to square root can also math.sqrt\n",
        "  profit = (att *10) - 200 - adds\n",
        "  print(adds, '\\t', profit)"
      ],
      "metadata": {
        "colab": {
          "base_uri": "https://localhost:8080/"
        },
        "id": "abM0cu0pN7Dm",
        "outputId": "5fe615a5-05be-4f98-af64-11f38a8942b7"
      },
      "execution_count": null,
      "outputs": [
        {
          "output_type": "stream",
          "name": "stdout",
          "text": [
            "Ad$\t Profit\n",
            "0 \t 0\n",
            "25 \t 75\n",
            "50 \t 90\n",
            "75 \t 105\n",
            "100 \t 100\n",
            "125 \t 95\n",
            "150 \t 90\n",
            "175 \t 85\n",
            "200 \t 80\n"
          ]
        }
      ]
    },
    {
      "cell_type": "markdown",
      "source": [
        "**In class assignment #5**   \n",
        "\n",
        "date: 2/20/2025\n",
        "\n",
        "write a progrma in Python that includes two players playing Rock, Paper, Sissors. Each plater must have a choice, and the game will repeat until user(s) decides to stop."
      ],
      "metadata": {
        "id": "lK7o2jJjB9ie"
      }
    },
    {
      "cell_type": "code",
      "source": [
        "\n",
        "import random\n",
        "\n",
        "play = input(\"do you want to play?\" )\n",
        "\n",
        "while play == \"yes\":\n",
        "  P1 = input(\"player one select rock, paper, or sissors:\" )\n",
        "  P2 = random.choice([\"rock\", \"paper\", \"sissors\"])\n",
        "\n",
        "  print(f'player 1 {P1}; Copmuter chose {P2}')\n",
        "  if (P1 == \"rock\" and P2 == \"sissors\") or (P1 == \"paper\" and P2 == \"rock\") or (P1 == \"sissors\" and P2 == \"paper\"):\n",
        "    print(\"player one wins\")\n",
        "  elif P1 == P2:\n",
        "    print(\"Draw\")\n",
        "  else :\n",
        "    print(\"player two wins\")\n",
        "\n",
        "  play = input(\"do you want to play?\" )\n",
        "print(\"game over\")"
      ],
      "metadata": {
        "colab": {
          "base_uri": "https://localhost:8080/"
        },
        "id": "M1R58lHN6pw-",
        "outputId": "f7923c48-7cf8-4d86-94f8-662efdb06b7f"
      },
      "execution_count": null,
      "outputs": [
        {
          "output_type": "stream",
          "name": "stdout",
          "text": [
            "do you want to play?yes\n",
            "player one select rock, paper, or sissors:rock\n",
            "player 1 rock; Copmuter chose rock\n",
            "Draw\n",
            "do you want to play?no\n",
            "game over\n"
          ]
        }
      ]
    },
    {
      "cell_type": "markdown",
      "source": [
        "**In class assingment #6**  \n",
        "\n",
        "date 2/17/2025\n",
        "\n",
        "Given an empty list, design a program that adds numbers to the list given by the user until the user gives the number 0. When that happens the process terminates, then print the list in decending order not including the 0."
      ],
      "metadata": {
        "id": "VsBNE0a_A5hR"
      }
    },
    {
      "cell_type": "code",
      "source": [
        "\n",
        "list = []\n",
        "num=float(input('enter your number:'))\n",
        "while num != 0:\n",
        "    list.append(num)\n",
        "    num=float(input('enter your number:'))\n",
        "else:\n",
        "    list.sort(reverse=True)\n",
        "    print(list)\n",
        "    if list == 0:\n",
        "      print('end of list')"
      ],
      "metadata": {
        "colab": {
          "base_uri": "https://localhost:8080/"
        },
        "id": "R-D8t5JIlFZy",
        "outputId": "41a562a2-03d4-4673-d17f-fb01c2759f7b"
      },
      "execution_count": null,
      "outputs": [
        {
          "output_type": "stream",
          "name": "stdout",
          "text": [
            "enter your number:3\n",
            "enter your number:4\n",
            "enter your number:5\n",
            "enter your number:1\n",
            "enter your number:0\n",
            "[5.0, 4.0, 3.0, 1.0]\n"
          ]
        }
      ]
    },
    {
      "cell_type": "markdown",
      "source": [
        "**In class assignment #7**  \n",
        "\n",
        "date 2/21/2025\n",
        "\n",
        "Populate an empty dictionary with key value players with numbers and names. Then iterate over them."
      ],
      "metadata": {
        "id": "If9iGYDGAewx"
      }
    },
    {
      "cell_type": "code",
      "source": [
        "# in-class assingment 7 date: 2/21/2025\n",
        "# populate empty dictonary with key value players with numbers and names\n",
        "\n",
        "months = {}\n",
        "\n",
        "names = ['Jan', 'Feb', 'Mar', 'Apr', 'May', 'Jun', 'Jul', 'Aug', 'Sep', 'Oct', 'Nov', 'Dec']\n",
        "numbers = [1,2,3,4,5,6,7,8,9,10,11,12]\n",
        "\n",
        "for idx in range(len(numbers)):\n",
        "  months[numbers[idx]] = names[idx]\n",
        "\n",
        "print(months)\n"
      ],
      "metadata": {
        "colab": {
          "base_uri": "https://localhost:8080/"
        },
        "id": "nQTgUnR5iP6Y",
        "outputId": "e7b9e849-15ee-4364-8e46-862c8501b7b5"
      },
      "execution_count": null,
      "outputs": [
        {
          "output_type": "stream",
          "name": "stdout",
          "text": [
            "{1: 'Jan', 2: 'Feb', 3: 'Mar', 4: 'Apr', 5: 'May', 6: 'Jun', 7: 'Jul', 8: 'Aug', 9: 'Sep', 10: 'Oct', 11: 'Nov', 12: 'Dec'}\n"
          ]
        }
      ]
    },
    {
      "cell_type": "code",
      "source": [
        "# iterating over numbers\n",
        "\n",
        "months = {}\n",
        "\n",
        "names = ['Jan', 'Feb', 'Mar', 'Apr', 'May', 'Jun', 'Jul', 'Aug', 'Sep', 'Oct', 'Nov', 'Dec']\n",
        "numbers = [1,2,3,4,5,6,7,8,9,10,11,12]\n",
        "\n",
        "cntr = 0\n",
        "for num in numbers:\n",
        "  months[num] = names[cntr]\n",
        "  cntr +=1\n",
        "\n",
        "print(months)"
      ],
      "metadata": {
        "colab": {
          "base_uri": "https://localhost:8080/"
        },
        "id": "p2grnCjflMtk",
        "outputId": "7f3ce342-9250-4c88-a10e-3bfd552ac5c1"
      },
      "execution_count": null,
      "outputs": [
        {
          "output_type": "stream",
          "name": "stdout",
          "text": [
            "{1: 'Jan', 2: 'Feb', 3: 'Mar', 4: 'Apr', 5: 'May', 6: 'Jun', 7: 'Jul', 8: 'Aug', 9: 'Sep', 10: 'Oct', 11: 'Nov', 12: 'Dec'}\n"
          ]
        }
      ]
    },
    {
      "cell_type": "markdown",
      "source": [
        "**In class assingment # 8**  \n",
        "\n",
        "date: 2/21/2025\n",
        "\n",
        "Build a dictonary dynamically. Begin with an empty dictonary, then use a while loop to read strings from the user until 5 uniquw string have been enterd. Finally return all strings with their counts."
      ],
      "metadata": {
        "id": "-sNNaFqZ_XNl"
      }
    },
    {
      "cell_type": "code",
      "source": [
        "\n",
        "names = {}\n",
        "\n",
        "while len(names)<5:\n",
        "  key = input(\"please provide a name: \")\n",
        "  if key not in names:\n",
        "    names[key] = 1\n",
        "  else:\n",
        "     names[key] += 1\n",
        "\n",
        "print(names)\n",
        "\n"
      ],
      "metadata": {
        "colab": {
          "base_uri": "https://localhost:8080/"
        },
        "id": "zEXwM2ExnhVs",
        "outputId": "676fcd89-e64d-43b1-97d5-20b1367608fc"
      },
      "execution_count": null,
      "outputs": [
        {
          "name": "stdout",
          "output_type": "stream",
          "text": [
            "please provide a name: bob\n",
            "please provide a name: bob\n",
            "please provide a name: jane\n",
            "please provide a name: jane\n",
            "please provide a name: jane\n",
            "please provide a name: smith\n",
            "please provide a name: joe\n"
          ]
        }
      ]
    },
    {
      "cell_type": "markdown",
      "source": [
        "**In class assignment #9**     \n",
        "\n",
        "date:2/26/2025\n",
        "\n",
        "A parking garge charges 5 dollars plus 2.50 for each hour parked. The minimum fee is 10 dollars and the mazimum fee is 20 dollars, wirte a code for parking for 8 hours with a function"
      ],
      "metadata": {
        "id": "hPx99pW79m8z"
      }
    },
    {
      "cell_type": "code",
      "source": [
        "\n",
        "def parking_fee(hours):\n",
        "  fee = 5 + 2.5 * hours\n",
        "  if fee < 10.0:\n",
        "    fee = 10.0\n",
        "  elif fee > 20.0:\n",
        "    fee = 20.0\n",
        "  print(f'Fee: ${fee}')\n",
        "\n",
        "hours = int(input('how many hours were you parked? '))\n",
        "parking_fee(hours)"
      ],
      "metadata": {
        "colab": {
          "base_uri": "https://localhost:8080/"
        },
        "id": "lO5-OUX4Z1cH",
        "outputId": "100ffa6a-598b-450f-b64d-9777535fd14b"
      },
      "execution_count": null,
      "outputs": [
        {
          "output_type": "stream",
          "name": "stdout",
          "text": [
            "how many hours were you parked? 5\n",
            "Fee: $17.5\n"
          ]
        }
      ]
    },
    {
      "cell_type": "markdown",
      "source": [
        "in class assignment #10\n",
        "\n",
        "date: 3/21/2025\n",
        "\n",
        "*design a recursive function that if you give the a string it returns a revese string*"
      ],
      "metadata": {
        "id": "w83vP8tEp7Fo"
      }
    },
    {
      "cell_type": "code",
      "source": [
        "def rev(n):\n",
        "  if len(n) == 1:\n",
        "    return n\n",
        "  else:\n",
        "    return n[-1]+rev(n[:-1])\n",
        "\n",
        "rev(\"hello\")\n"
      ],
      "metadata": {
        "colab": {
          "base_uri": "https://localhost:8080/",
          "height": 35
        },
        "id": "4_B_Q5CaqHx2",
        "outputId": "7dfc4b36-9e83-473c-83c6-1097c2bc9443"
      },
      "execution_count": null,
      "outputs": [
        {
          "output_type": "execute_result",
          "data": {
            "text/plain": [
              "'olleh'"
            ],
            "application/vnd.google.colaboratory.intrinsic+json": {
              "type": "string"
            }
          },
          "metadata": {},
          "execution_count": 5
        }
      ]
    },
    {
      "cell_type": "markdown",
      "source": [
        "**In class assignment #10**\n",
        "\n",
        "date: 3/31/2025\n",
        "\n",
        "*makeing previous functions \"error proof\"*"
      ],
      "metadata": {
        "id": "Ndj9b1VIbyDb"
      }
    },
    {
      "cell_type": "code",
      "source": [
        "\n",
        "def calcFee(hours):\n",
        "  fee = 5+2.5*hours\n",
        "  if fee<=10:\n",
        "    fee = 10\n",
        "  elif fee>=20:\n",
        "    fee = 20\n",
        "  print(f'Fee: ${fee}')\n",
        "\n",
        "def main():\n",
        "  try:\n",
        "    numHours = int(input('Enter number of hours: '))\n",
        "    calcFee(numHours)\n",
        "  except ValueError:\n",
        "    print('Cannot cast to int().')\n",
        "  except:\n",
        "    print('Unknown error...')\n",
        "if __name__ == '__main__':\n",
        "  main()\n"
      ],
      "metadata": {
        "colab": {
          "base_uri": "https://localhost:8080/"
        },
        "id": "OF7CyeGrb9-z",
        "outputId": "8a22a6f0-7ca4-4e8e-ea41-99c1261ef823"
      },
      "execution_count": null,
      "outputs": [
        {
          "output_type": "stream",
          "name": "stdout",
          "text": [
            "Enter number of hours: 3.2\n",
            "Cannot cast to int().\n"
          ]
        }
      ]
    },
    {
      "cell_type": "markdown",
      "source": [
        "**In class assignment #11**\n",
        "\n",
        "date: 3/31/2025"
      ],
      "metadata": {
        "id": "FaIiTPeucxyN"
      }
    },
    {
      "cell_type": "code",
      "source": [
        "def getValues(n):\n",
        "  L=[]\n",
        "  for i in range(n):\n",
        "    weight = float(input(\"Enter weight: \"))\n",
        "    L.append(weight)\n",
        "  return L\n",
        "\n",
        "def calcAverage(alist):\n",
        "  try:\n",
        "    print(sum(alist[2:])/len(alist[2:]))\n",
        "  except: ZeroDivisionError\n",
        "  print(f'List{alist} is empty!')\n",
        "\n",
        "def main():\n",
        "  try:\n",
        "    n=int(input('Enter size of list: '))\n",
        "    alist=getValues(n)\n",
        "    calcAverage(alist)\n",
        "  except ValueError:\n",
        "    print('Cannot cast to int().')\n",
        "  except:\n",
        "    print('Invalid Input')\n",
        "\n",
        "if __name__ == '__main__':\n",
        "  main()"
      ],
      "metadata": {
        "colab": {
          "base_uri": "https://localhost:8080/"
        },
        "id": "jdX9E8W8c9Ra",
        "outputId": "e218f128-d3f0-4bba-cf32-cfe69dcd3382"
      },
      "execution_count": null,
      "outputs": [
        {
          "output_type": "stream",
          "name": "stdout",
          "text": [
            "Enter size of list: 0\n",
            "List[] is empty!\n"
          ]
        }
      ]
    },
    {
      "cell_type": "markdown",
      "source": [
        "**In class assignments #12**\n",
        "\n",
        "date: 4/7/2025\n",
        "\n",
        "*A class grading method, ise class keywords to define the greeting class. Define __int__() method with three parameters, self, first, last, and display the message \"hi (name of student)\".* --> enhancing the display() method --> *add a name parameter with signature def display(self,formal=Flase)* and implement __str__"
      ],
      "metadata": {
        "id": "GDVeCipKJQ1G"
      }
    },
    {
      "cell_type": "code",
      "source": [
        "class Greeting:\n",
        "  def __init__(self, first, last):\n",
        "    self.first = first\n",
        "    self.last = last\n",
        "\n",
        "  def display(self, formal = False):\n",
        "    if formal == True:\n",
        "      print(f'Hello {self.first} {self.last}')\n",
        "    else:\n",
        "      print(f'Hi {self.first}')\n",
        "\n",
        "  def __str__(self):\n",
        "    return f'{self.first} , {self.last}'\n",
        "\n",
        "\n",
        "greeting = Greeting('Donald' , 'Becker')\n",
        "greeting.display(formal= True)\n",
        "print(greeting)"
      ],
      "metadata": {
        "colab": {
          "base_uri": "https://localhost:8080/"
        },
        "id": "6YUC1vgCLMoZ",
        "outputId": "238211f8-f4c5-49ff-d704-6eababfc8289"
      },
      "execution_count": 21,
      "outputs": [
        {
          "output_type": "stream",
          "name": "stdout",
          "text": [
            "Hello Donald Becker\n",
            "Donald , Becker\n"
          ]
        }
      ]
    }
  ]
}