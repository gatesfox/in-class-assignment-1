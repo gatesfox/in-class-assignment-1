{
  "nbformat": 4,
  "nbformat_minor": 0,
  "metadata": {
    "colab": {
      "provenance": [],
      "authorship_tag": "ABX9TyNhqMtrqZQEi7uUT4Gk3vCX",
      "include_colab_link": true
    },
    "kernelspec": {
      "name": "python3",
      "display_name": "Python 3"
    },
    "language_info": {
      "name": "python"
    }
  },
  "cells": [
    {
      "cell_type": "markdown",
      "metadata": {
        "id": "view-in-github",
        "colab_type": "text"
      },
      "source": [
        "<a href=\"https://colab.research.google.com/github/gatesfox/in-class-assignment-1/blob/main/in_class_asignment.ipynb\" target=\"_parent\"><img src=\"https://colab.research.google.com/assets/colab-badge.svg\" alt=\"Open In Colab\"/></a>"
      ]
    },
    {
      "cell_type": "code",
      "execution_count": null,
      "metadata": {
        "colab": {
          "base_uri": "https://localhost:8080/"
        },
        "id": "o-P0WZ8nZ6Lw",
        "outputId": "2baf1ee3-f0ca-4f5c-d7c0-cb911301d3aa"
      },
      "outputs": [
        {
          "output_type": "stream",
          "name": "stdout",
          "text": [
            "what is the radius of the cylinder:10\n",
            "what is the height of the cylinder:20\n",
            "Surface Area of Cylinder = 1884.0 sq. ft\n"
          ]
        }
      ],
      "source": [
        "#write a program that take the value of pi, r, h from the computer to calculate the SA of cylinder#\n",
        "      # write inputs first#\n",
        "pi = 3.14\n",
        "radius = float(input(\"what is the radius of the cylinder:\"))\n",
        "hieght = float(input(\"what is the height of the cylinder:\"))\n",
        "      #write the process#\n",
        "SA = 2 * pi * radius**2 + 2 * pi * radius * hieght\n",
        "      #how do you want it outputted#\n",
        "print(f'Surface Area of Cylinder = {SA} sq. ft')\n",
        "      #results in a float because it has a decimal#"
      ]
    }
  ]
}