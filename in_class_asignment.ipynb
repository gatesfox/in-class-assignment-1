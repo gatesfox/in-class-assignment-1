{
  "nbformat": 4,
  "nbformat_minor": 0,
  "metadata": {
    "colab": {
      "provenance": [],
      "authorship_tag": "ABX9TyP0XmPkFz2ItmIK2E5oCDAC",
      "include_colab_link": true
    },
    "kernelspec": {
      "name": "python3",
      "display_name": "Python 3"
    },
    "language_info": {
      "name": "python"
    }
  },
  "cells": [
    {
      "cell_type": "markdown",
      "metadata": {
        "id": "view-in-github",
        "colab_type": "text"
      },
      "source": [
        "<a href=\"https://colab.research.google.com/github/gatesfox/in-class-assignment-1/blob/main/in_class_asignment.ipynb\" target=\"_parent\"><img src=\"https://colab.research.google.com/assets/colab-badge.svg\" alt=\"Open In Colab\"/></a>"
      ]
    },
    {
      "cell_type": "code",
      "execution_count": null,
      "metadata": {
        "colab": {
          "base_uri": "https://localhost:8080/"
        },
        "id": "o-P0WZ8nZ6Lw",
        "outputId": "2baf1ee3-f0ca-4f5c-d7c0-cb911301d3aa"
      },
      "outputs": [
        {
          "output_type": "stream",
          "name": "stdout",
          "text": [
            "what is the radius of the cylinder:10\n",
            "what is the height of the cylinder:20\n",
            "Surface Area of Cylinder = 1884.0 sq. ft\n"
          ]
        }
      ],
      "source": [
        "# in class asignment number 1\n",
        "#write a program that take the value of pi, r, h from the computer to calculate the SA of cylinder#\n",
        "      # write inputs first#\n",
        "pi = 3.14\n",
        "radius = float(input(\"what is the radius of the cylinder:\"))\n",
        "hieght = float(input(\"what is the height of the cylinder:\"))\n",
        "      #write the process#\n",
        "SA = 2 * pi * radius**2 + 2 * pi * radius * hieght\n",
        "      #how do you want it outputted#\n",
        "print(f'Surface Area of Cylinder = {SA} sq. ft')\n",
        "      #results in a float because it has a decimal#"
      ]
    },
    {
      "cell_type": "code",
      "source": [
        "#in class asignment 2 date: 1/31/2025\n",
        "  #design a calculator\n",
        "\n",
        "numb_1 = float(input(\"what is the first number: \"))\n",
        "numb_2 = float(input(\"what is the second number: \"))\n",
        "opp = input(\"what is the operator (+, -, *, /, ^, %, //): \")\n",
        "\n",
        "if opp == \"+\":\n",
        "  answer = int(numb_1) + int(numb_2)\n",
        "elif opp == \"-\":\n",
        "  answer = int(numb_1) - int(numb_2)\n",
        "elif opp == \"*\":\n",
        "  answer = int(numb_1) * int(numb_2)\n",
        "elif opp == \"/\":\n",
        "  answer = int(numb_1) / int(numb_2)\n",
        "elif opp == \"^\":\n",
        "  answer = int(numb_1) ** int(numb_2)\n",
        "elif opp == \"%\":\n",
        "  answer = int(numb_1) % int(numb_2)\n",
        "elif opp == \"//\":\n",
        "  answer = int(numb_1) // int(numb_2)\n",
        "else:\n",
        "  print(\"invalid operator\")\n",
        "\n",
        "print(answer)"
      ],
      "metadata": {
        "colab": {
          "base_uri": "https://localhost:8080/"
        },
        "id": "JAF-ckI4b2st",
        "outputId": "75b15621-e32b-440b-a389-95624a98c5d0"
      },
      "execution_count": 6,
      "outputs": [
        {
          "output_type": "stream",
          "name": "stdout",
          "text": [
            "what is the first number: 5\n",
            "what is the second number: 1\n",
            "what is the operator (+, -, *, /, **, %, //): /\n",
            "5.0\n"
          ]
        }
      ]
    }
  ]
}