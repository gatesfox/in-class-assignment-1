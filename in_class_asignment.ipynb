{
  "nbformat": 4,
  "nbformat_minor": 0,
  "metadata": {
    "colab": {
      "provenance": [],
      "authorship_tag": "ABX9TyOKUdKc1imTbg8b/1vXnHEL",
      "include_colab_link": true
    },
    "kernelspec": {
      "name": "python3",
      "display_name": "Python 3"
    },
    "language_info": {
      "name": "python"
    }
  },
  "cells": [
    {
      "cell_type": "markdown",
      "metadata": {
        "id": "view-in-github",
        "colab_type": "text"
      },
      "source": [
        "<a href=\"https://colab.research.google.com/github/gatesfox/in-class-assignment-1/blob/main/in_class_asignment.ipynb\" target=\"_parent\"><img src=\"https://colab.research.google.com/assets/colab-badge.svg\" alt=\"Open In Colab\"/></a>"
      ]
    },
    {
      "cell_type": "code",
      "execution_count": null,
      "metadata": {
        "colab": {
          "base_uri": "https://localhost:8080/"
        },
        "id": "o-P0WZ8nZ6Lw",
        "outputId": "2baf1ee3-f0ca-4f5c-d7c0-cb911301d3aa"
      },
      "outputs": [
        {
          "output_type": "stream",
          "name": "stdout",
          "text": [
            "what is the radius of the cylinder:10\n",
            "what is the height of the cylinder:20\n",
            "Surface Area of Cylinder = 1884.0 sq. ft\n"
          ]
        }
      ],
      "source": [
        "# in class asignment number 1\n",
        "#write a program that take the value of pi, r, h from the computer to calculate the SA of cylinder#\n",
        "      # write inputs first#\n",
        "pi = 3.14\n",
        "radius = float(input(\"what is the radius of the cylinder:\"))\n",
        "hieght = float(input(\"what is the height of the cylinder:\"))\n",
        "      #write the process#\n",
        "SA = 2 * pi * radius**2 + 2 * pi * radius * hieght\n",
        "      #how do you want it outputted#\n",
        "print(f'Surface Area of Cylinder = {SA} sq. ft')\n",
        "      #results in a float because it has a decimal#"
      ]
    },
    {
      "cell_type": "code",
      "source": [
        "#in class asignment 2 date: 1/31/2025\n",
        "  #design a calculator\n",
        "\n",
        "numb_1 = float(input(\"what is the first number: \"))\n",
        "numb_2 = float(input(\"what is the second number: \"))\n",
        "opp = input(\"what is the operator (+, -, *, /, ^, %, //): \")\n",
        "\n",
        "if opp == \"+\":\n",
        "  answer = int(numb_1) + int(numb_2)\n",
        "elif opp == \"-\":\n",
        "  answer = int(numb_1) - int(numb_2)\n",
        "elif opp == \"*\":\n",
        "  answer = int(numb_1) * int(numb_2)\n",
        "elif opp == \"/\":\n",
        "  answer = int(numb_1) / int(numb_2)\n",
        "elif opp == \"^\":\n",
        "  answer = int(numb_1) ** int(numb_2)\n",
        "elif opp == \"%\":\n",
        "  answer = int(numb_1) % int(numb_2)\n",
        "elif opp == \"//\":\n",
        "  answer = int(numb_1) // int(numb_2)\n",
        "else:\n",
        "  print(\"invalid operator\")\n",
        "\n",
        "print(answer)"
      ],
      "metadata": {
        "colab": {
          "base_uri": "https://localhost:8080/"
        },
        "id": "JAF-ckI4b2st",
        "outputId": "75b15621-e32b-440b-a389-95624a98c5d0"
      },
      "execution_count": null,
      "outputs": [
        {
          "output_type": "stream",
          "name": "stdout",
          "text": [
            "what is the first number: 5\n",
            "what is the second number: 1\n",
            "what is the operator (+, -, *, /, **, %, //): /\n",
            "5.0\n"
          ]
        }
      ]
    },
    {
      "cell_type": "code",
      "source": [
        "# in class assignment 2 date: 2/5/2025\n",
        "  # a parking garage charges $5 plus $2.50 for each hour parked. The minimum fee is $10 and the maximum fee is $20,\n",
        "  # write a code for parking for 8 hours\n",
        "\n",
        "for hours in range(1,9,1):\n",
        "  fee = 5 + 2.5*hours\n",
        "  if fee < 10.0:\n",
        "    fee = 10.0\n",
        "  elif fee > 20.0:\n",
        "    fee = 20.0\n",
        "  print(hours, fee)\n",
        ""
      ],
      "metadata": {
        "colab": {
          "base_uri": "https://localhost:8080/"
        },
        "id": "jG42mEL1JPgl",
        "outputId": "f84b16fa-edc7-47d0-fa2c-10a95c116a90"
      },
      "execution_count": 20,
      "outputs": [
        {
          "output_type": "stream",
          "name": "stdout",
          "text": [
            "1 10.0\n",
            "2 10.0\n",
            "3 12.5\n",
            "4 15.0\n",
            "5 17.5\n",
            "6 20.0\n",
            "7 20.0\n",
            "8 20.0\n"
          ]
        }
      ]
    },
    {
      "cell_type": "code",
      "source": [
        "# in class assignment 4 date 2/5/2025\n",
        "  # a movie theater manager is deciding how much to spend on advertising\n",
        "  # every ticket cost $10, without advertising, 20 people will show up\n",
        "  # additional attendees are based on add = 2* sqr(add money) and there is a fixed cost of $200\n",
        "\n",
        "print( \"Ad$\\t\", \"Profit\")\n",
        "for adds in range(0,201, 25):\n",
        "  att = 20 + (2* round(adds**0.5)) # to square root can also math.sqrt\n",
        "  profit = (att *10) - 200 - adds\n",
        "  print(adds, '\\t', profit)"
      ],
      "metadata": {
        "colab": {
          "base_uri": "https://localhost:8080/"
        },
        "id": "abM0cu0pN7Dm",
        "outputId": "5fe615a5-05be-4f98-af64-11f38a8942b7"
      },
      "execution_count": 38,
      "outputs": [
        {
          "output_type": "stream",
          "name": "stdout",
          "text": [
            "Ad$\t Profit\n",
            "0 \t 0\n",
            "25 \t 75\n",
            "50 \t 90\n",
            "75 \t 105\n",
            "100 \t 100\n",
            "125 \t 95\n",
            "150 \t 90\n",
            "175 \t 85\n",
            "200 \t 80\n"
          ]
        }
      ]
    }
  ]
}