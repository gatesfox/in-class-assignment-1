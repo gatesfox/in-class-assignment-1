{
  "nbformat": 4,
  "nbformat_minor": 0,
  "metadata": {
    "colab": {
      "provenance": [],
      "authorship_tag": "ABX9TyMF7i0qCoWv1zPzDGGwFU+4",
      "include_colab_link": true
    },
    "kernelspec": {
      "name": "python3",
      "display_name": "Python 3"
    },
    "language_info": {
      "name": "python"
    }
  },
  "cells": [
    {
      "cell_type": "markdown",
      "metadata": {
        "id": "view-in-github",
        "colab_type": "text"
      },
      "source": [
        "<a href=\"https://colab.research.google.com/github/gatesfox/in-class-assignment-1/blob/main/in_class_asignment.ipynb\" target=\"_parent\"><img src=\"https://colab.research.google.com/assets/colab-badge.svg\" alt=\"Open In Colab\"/></a>"
      ]
    },
    {
      "cell_type": "code",
      "execution_count": null,
      "metadata": {
        "colab": {
          "base_uri": "https://localhost:8080/"
        },
        "id": "o-P0WZ8nZ6Lw",
        "outputId": "2baf1ee3-f0ca-4f5c-d7c0-cb911301d3aa"
      },
      "outputs": [
        {
          "output_type": "stream",
          "name": "stdout",
          "text": [
            "what is the radius of the cylinder:10\n",
            "what is the height of the cylinder:20\n",
            "Surface Area of Cylinder = 1884.0 sq. ft\n"
          ]
        }
      ],
      "source": [
        "# in class asignment number 1\n",
        "#write a program that take the value of pi, r, h from the computer to calculate the SA of cylinder#\n",
        "      # write inputs first#\n",
        "pi = 3.14\n",
        "radius = float(input(\"what is the radius of the cylinder:\"))\n",
        "hieght = float(input(\"what is the height of the cylinder:\"))\n",
        "      #write the process#\n",
        "SA = 2 * pi * radius**2 + 2 * pi * radius * hieght\n",
        "      #how do you want it outputted#\n",
        "print(f'Surface Area of Cylinder = {SA} sq. ft')\n",
        "      #results in a float because it has a decimal#"
      ]
    },
    {
      "cell_type": "code",
      "source": [
        "#in class asignment 2 date: 1/31/2025\n",
        "  #design a calculator\n",
        "\n",
        "numb_1 = float(input(\"what is the first number: \"))\n",
        "numb_2 = float(input(\"what is the second number: \"))\n",
        "opp = input(\"what is the operator (+, -, *, /, ^, %, //): \")\n",
        "\n",
        "if opp == \"+\":\n",
        "  answer = int(numb_1) + int(numb_2)\n",
        "elif opp == \"-\":\n",
        "  answer = int(numb_1) - int(numb_2)\n",
        "elif opp == \"*\":\n",
        "  answer = int(numb_1) * int(numb_2)\n",
        "elif opp == \"/\":\n",
        "  answer = int(numb_1) / int(numb_2)\n",
        "elif opp == \"^\":\n",
        "  answer = int(numb_1) ** int(numb_2)\n",
        "elif opp == \"%\":\n",
        "  answer = int(numb_1) % int(numb_2)\n",
        "elif opp == \"//\":\n",
        "  answer = int(numb_1) // int(numb_2)\n",
        "else:\n",
        "  print(\"invalid operator\")\n",
        "\n",
        "print(answer)"
      ],
      "metadata": {
        "colab": {
          "base_uri": "https://localhost:8080/"
        },
        "id": "JAF-ckI4b2st",
        "outputId": "75b15621-e32b-440b-a389-95624a98c5d0"
      },
      "execution_count": null,
      "outputs": [
        {
          "output_type": "stream",
          "name": "stdout",
          "text": [
            "what is the first number: 5\n",
            "what is the second number: 1\n",
            "what is the operator (+, -, *, /, **, %, //): /\n",
            "5.0\n"
          ]
        }
      ]
    },
    {
      "cell_type": "code",
      "source": [
        "# in class assignment 2 date: 2/5/2025\n",
        "  # a parking garage charges $5 plus $2.50 for each hour parked. The minimum fee is $10 and the maximum fee is $20,\n",
        "  # write a code for parking for 8 hours\n",
        "\n",
        "for hours in range(1,9,1):\n",
        "  fee = 5 + 2.5*hours\n",
        "  if fee < 10.0:\n",
        "    fee = 10.0\n",
        "  elif fee > 20.0:\n",
        "    fee = 20.0\n",
        "  print(hours, fee)\n"
      ],
      "metadata": {
        "colab": {
          "base_uri": "https://localhost:8080/"
        },
        "id": "jG42mEL1JPgl",
        "outputId": "f84b16fa-edc7-47d0-fa2c-10a95c116a90"
      },
      "execution_count": null,
      "outputs": [
        {
          "output_type": "stream",
          "name": "stdout",
          "text": [
            "1 10.0\n",
            "2 10.0\n",
            "3 12.5\n",
            "4 15.0\n",
            "5 17.5\n",
            "6 20.0\n",
            "7 20.0\n",
            "8 20.0\n"
          ]
        }
      ]
    },
    {
      "cell_type": "code",
      "source": [
        "# in class assignment 4 date 2/5/2025\n",
        "  # a movie theater manager is deciding how much to spend on advertising\n",
        "  # every ticket cost $10, without advertising, 20 people will show up\n",
        "  # additional attendees are based on add = 2* sqr(add money) and there is a fixed cost of $200\n",
        "\n",
        "print( \"Ad$\\t\", \"Profit\")\n",
        "for adds in range(0,201, 25):\n",
        "  att = 20 + (2* round(adds**0.5)) # to square root can also math.sqrt\n",
        "  profit = (att *10) - 200 - adds\n",
        "  print(adds, '\\t', profit)"
      ],
      "metadata": {
        "colab": {
          "base_uri": "https://localhost:8080/"
        },
        "id": "abM0cu0pN7Dm",
        "outputId": "5fe615a5-05be-4f98-af64-11f38a8942b7"
      },
      "execution_count": null,
      "outputs": [
        {
          "output_type": "stream",
          "name": "stdout",
          "text": [
            "Ad$\t Profit\n",
            "0 \t 0\n",
            "25 \t 75\n",
            "50 \t 90\n",
            "75 \t 105\n",
            "100 \t 100\n",
            "125 \t 95\n",
            "150 \t 90\n",
            "175 \t 85\n",
            "200 \t 80\n"
          ]
        }
      ]
    },
    {
      "cell_type": "code",
      "source": [
        "# in class asignment 5 date: 2/10/25\n",
        "  # write a program in Pythin that includes two platers playing Rock, Paper, Sissors\n",
        "  # each player must have a choice\n",
        "  # the game will repeat until user(s) decides to stop\n",
        "\n",
        "import random\n",
        "\n",
        "play = input(\"do you want to play?\" )\n",
        "\n",
        "while play == \"yes\":\n",
        "  P1 = input(\"player one select rock, paper, or sissors:\" )\n",
        "  P2 = random.choice([\"rock\", \"paper\", \"sissors\"])\n",
        "\n",
        "  print(f'player 1 {P1}; Copmuter chose {P2}')\n",
        "  if (P1 == \"rock\" and P2 == \"sissors\") or (P1 == \"paper\" and P2 == \"rock\") or (P1 == \"sissors\" and P2 == \"paper\"):\n",
        "    print(\"player one wins\")\n",
        "  elif P1 == P2:\n",
        "    print(\"Draw\")\n",
        "  else :\n",
        "    print(\"player two wins\")\n",
        "\n",
        "  play = input(\"do you want to play?\" )\n",
        "print(\"game over\")"
      ],
      "metadata": {
        "colab": {
          "base_uri": "https://localhost:8080/"
        },
        "id": "M1R58lHN6pw-",
        "outputId": "f7923c48-7cf8-4d86-94f8-662efdb06b7f"
      },
      "execution_count": null,
      "outputs": [
        {
          "output_type": "stream",
          "name": "stdout",
          "text": [
            "do you want to play?yes\n",
            "player one select rock, paper, or sissors:rock\n",
            "player 1 rock; Copmuter chose rock\n",
            "Draw\n",
            "do you want to play?no\n",
            "game over\n"
          ]
        }
      ]
    },
    {
      "cell_type": "code",
      "source": [
        "# in class asignment 6 date: 2/17/2025\n",
        "  #given an empty list, design a program that adds numbers to the list\n",
        "  #given by the user until the user gives the number zero\n",
        "  #when that happens the process terminates,\n",
        "  #then you need to print the list in decending order not including the zero\n",
        "\n",
        "list = []\n",
        "num=float(input('enter your number:'))\n",
        "while num != 0:\n",
        "    list.append(num)\n",
        "    num=float(input('enter your number:'))\n",
        "else:\n",
        "    list.sort(reverse=True)\n",
        "    print(list)\n",
        "    if list == 0:\n",
        "      print('end of list')"
      ],
      "metadata": {
        "colab": {
          "base_uri": "https://localhost:8080/"
        },
        "id": "R-D8t5JIlFZy",
        "outputId": "41a562a2-03d4-4673-d17f-fb01c2759f7b"
      },
      "execution_count": null,
      "outputs": [
        {
          "output_type": "stream",
          "name": "stdout",
          "text": [
            "enter your number:3\n",
            "enter your number:4\n",
            "enter your number:5\n",
            "enter your number:1\n",
            "enter your number:0\n",
            "[5.0, 4.0, 3.0, 1.0]\n"
          ]
        }
      ]
    },
    {
      "cell_type": "code",
      "source": [
        "# in-class assingment 7 date: 2/21/2025\n",
        "# populate empty dictonary with key value players with numbers and names\n",
        "\n",
        "months = {}\n",
        "\n",
        "names = ['Jan', 'Feb', 'Mar', 'Apr', 'May', 'Jun', 'Jul', 'Aug', 'Sep', 'Oct', 'Nov', 'Dec']\n",
        "numbers = [1,2,3,4,5,6,7,8,9,10,11,12]\n",
        "\n",
        "for idx in range(len(numbers)):\n",
        "  months[numbers[idx]] = names[idx]\n",
        "\n",
        "print(months)\n"
      ],
      "metadata": {
        "colab": {
          "base_uri": "https://localhost:8080/"
        },
        "id": "nQTgUnR5iP6Y",
        "outputId": "e7b9e849-15ee-4364-8e46-862c8501b7b5"
      },
      "execution_count": null,
      "outputs": [
        {
          "output_type": "stream",
          "name": "stdout",
          "text": [
            "{1: 'Jan', 2: 'Feb', 3: 'Mar', 4: 'Apr', 5: 'May', 6: 'Jun', 7: 'Jul', 8: 'Aug', 9: 'Sep', 10: 'Oct', 11: 'Nov', 12: 'Dec'}\n"
          ]
        }
      ]
    },
    {
      "cell_type": "code",
      "source": [
        "# iterating over numbers\n",
        "\n",
        "months = {}\n",
        "\n",
        "names = ['Jan', 'Feb', 'Mar', 'Apr', 'May', 'Jun', 'Jul', 'Aug', 'Sep', 'Oct', 'Nov', 'Dec']\n",
        "numbers = [1,2,3,4,5,6,7,8,9,10,11,12]\n",
        "\n",
        "cntr = 0\n",
        "for num in numbers:\n",
        "  months[num] = names[cntr]\n",
        "  cntr +=1\n",
        "\n",
        "print(months)"
      ],
      "metadata": {
        "colab": {
          "base_uri": "https://localhost:8080/"
        },
        "id": "p2grnCjflMtk",
        "outputId": "7f3ce342-9250-4c88-a10e-3bfd552ac5c1"
      },
      "execution_count": null,
      "outputs": [
        {
          "output_type": "stream",
          "name": "stdout",
          "text": [
            "{1: 'Jan', 2: 'Feb', 3: 'Mar', 4: 'Apr', 5: 'May', 6: 'Jun', 7: 'Jul', 8: 'Aug', 9: 'Sep', 10: 'Oct', 11: 'Nov', 12: 'Dec'}\n"
          ]
        }
      ]
    },
    {
      "cell_type": "code",
      "source": [
        "# in class assignment 8 date 2/21/2025\n",
        "# build a dictonary dynamically\n",
        "# begin with an empty dictonary. Then use a while loop to read strings fomr the user\n",
        "# until 5 unique string that have been entered. Finally all strings with their counts\n",
        "\n",
        "names = {}\n",
        "\n",
        "while len(names)<5:\n",
        "  key = input(\"please provide a name: \")\n",
        "  if key not in names:\n",
        "    names[key] = 1\n",
        "  else:\n",
        "     names[key] += 1\n",
        "\n",
        "print(names)\n",
        "\n"
      ],
      "metadata": {
        "colab": {
          "base_uri": "https://localhost:8080/"
        },
        "id": "zEXwM2ExnhVs",
        "outputId": "676fcd89-e64d-43b1-97d5-20b1367608fc"
      },
      "execution_count": null,
      "outputs": [
        {
          "name": "stdout",
          "output_type": "stream",
          "text": [
            "please provide a name: bob\n",
            "please provide a name: bob\n",
            "please provide a name: jane\n",
            "please provide a name: jane\n",
            "please provide a name: jane\n",
            "please provide a name: smith\n",
            "please provide a name: joe\n"
          ]
        }
      ]
    },
    {
      "cell_type": "code",
      "source": [
        "# in calss asignment 9 date: 2/26/2025\n",
        "# a parking garage charges $5 plus $2.50 for each hour parked. The minimum fee is $10 and the maximum fee is $20,\n",
        "# write a code for parking for 8 hours\n",
        "\n",
        "def parking_fee(hours):\n",
        "  fee = 5 + 2.5 * hours\n",
        "  if fee < 10.0:\n",
        "    fee = 10.0\n",
        "  elif fee > 20.0:\n",
        "    fee = 20.0\n",
        "  print(f'Fee: ${fee}')\n",
        "\n",
        "hours = int(input('how many hours were you parked? '))\n",
        "parking_fee(hours)"
      ],
      "metadata": {
        "colab": {
          "base_uri": "https://localhost:8080/"
        },
        "id": "lO5-OUX4Z1cH",
        "outputId": "100ffa6a-598b-450f-b64d-9777535fd14b"
      },
      "execution_count": 22,
      "outputs": [
        {
          "output_type": "stream",
          "name": "stdout",
          "text": [
            "how many hours were you parked? 5\n",
            "Fee: $17.5\n"
          ]
        }
      ]
    },
    {
      "cell_type": "code",
      "source": [],
      "metadata": {
        "id": "tdJwvR8YaPZZ"
      },
      "execution_count": null,
      "outputs": []
    }
  ]
}